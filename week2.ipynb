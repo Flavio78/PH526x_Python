{
 "cells": [
  {
   "cell_type": "code",
   "execution_count": null,
   "metadata": {},
   "outputs": [],
   "source": [
    "#!/usr/bin/python3\n",
    "\n",
    "\"\"\"test example\n",
    "\"\"\"\n",
    "\n",
    "import sys\n",
    "\n",
    "\n",
    "class MyList(list):\n",
    "    \"\"\"example of class\n",
    "\n",
    "    Args:\n",
    "        list (_type_): inheritated class\n",
    "    \"\"\"\n",
    "\n",
    "    def remove_min(self):\n",
    "        self.remove(min(self))\n",
    "\n",
    "    def remove_max(self):\n",
    "        self.remove(max(self))\n",
    "\n",
    "\n",
    "def update(n: int, x: list) -> None:\n",
    "    \"\"\"update function\n",
    "\n",
    "    Args\n",
    "        n(int):\n",
    "        x(list):\n",
    "\n",
    "    Returns\n",
    "        None: function returns no value\n",
    "    \"\"\"\n",
    "    print(\"Start of function 'update'\")\n",
    "\n",
    "    # +++your code here+++\n",
    "    n = 2\n",
    "    x.append(4)\n",
    "    print(\"update:\", n, x)\n",
    "\n",
    "    print(\"End of function 'update'\")\n",
    "\n",
    "\n",
    "def main() -> None:\n",
    "    \"\"\"Main function()\n",
    "\n",
    "    Args\n",
    "        None: this function requires no value\n",
    "\n",
    "    Returns\n",
    "        None: this function returns no value\n",
    "    \"\"\"\n",
    "    print(\"Start of program\")\n",
    "\n",
    "    if len(sys.argv) > 1:\n",
    "        print(f\"First argument: {sys.argv[1]}\")\n",
    "    # +++your code here+++\n",
    "    n = 1\n",
    "    x = [0, 1, 2, 3]\n",
    "    print(\"main: \", n, x)\n",
    "    update(n, x)\n",
    "    print(\"main: \", n, x)\n",
    "    print(\"End of program\")\n",
    "\n",
    "\n",
    "if __name__ == \"__main__\":\n",
    "    main()"
   ]
  },
  {
   "cell_type": "code",
   "execution_count": null,
   "metadata": {},
   "outputs": [],
   "source": [
    "x = [10, 3, 5, 1, 2, 7, 6, 4, 8]"
   ]
  },
  {
   "cell_type": "code",
   "execution_count": null,
   "metadata": {},
   "outputs": [],
   "source": [
    "y = MyList(x)"
   ]
  },
  {
   "cell_type": "code",
   "execution_count": null,
   "metadata": {},
   "outputs": [],
   "source": [
    "dir(y)"
   ]
  },
  {
   "cell_type": "code",
   "execution_count": null,
   "metadata": {},
   "outputs": [],
   "source": [
    "y.remove_min()"
   ]
  },
  {
   "cell_type": "code",
   "execution_count": null,
   "metadata": {},
   "outputs": [],
   "source": [
    "y"
   ]
  }
 ],
 "metadata": {
  "kernelspec": {
   "display_name": ".venv",
   "language": "python",
   "name": "python3"
  },
  "language_info": {
   "codemirror_mode": {
    "name": "ipython",
    "version": 3
   },
   "file_extension": ".py",
   "mimetype": "text/x-python",
   "name": "python",
   "nbconvert_exporter": "python",
   "pygments_lexer": "ipython3",
   "version": "3.11.4"
  },
  "orig_nbformat": 4
 },
 "nbformat": 4,
 "nbformat_minor": 2
}
